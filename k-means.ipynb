{
 "cells": [
  {
   "cell_type": "markdown",
   "metadata": {},
   "source": [
    "## k-means Clustering"
   ]
  },
  {
   "cell_type": "code",
   "execution_count": 1,
   "metadata": {
    "collapsed": true
   },
   "outputs": [],
   "source": [
    "import random\n",
    "from base64 import b64decode\n",
    "from json import loads\n",
    "import numpy as np\n",
    "import matplotlib.pyplot as plt"
   ]
  },
  {
   "cell_type": "code",
   "execution_count": 2,
   "metadata": {
    "collapsed": true
   },
   "outputs": [],
   "source": [
    "# read MNIST data\n",
    "def read_in_data(json_file):\n",
    "\t\n",
    "\t# to parse the line of the digits into tuple\n",
    "\n",
    "\tjson_object = loads(json_file)\n",
    "\tjson_data = b64decode(json_object[\"data\"])\n",
    "\tdigit_vector = np.fromstring(json_data,dtype=np.ubyte)\n",
    "\tdigit_vector = digit_vector.astype(np.float64)\n",
    "\treturn (json_object[\"label\"],digit_vector)\n",
    "\n",
    "# read in the digits file\n",
    "with open(\"digits.base64.json\",\"r\") as f:\n",
    "\tdigits = map(read_in_data,f.readlines())\n",
    "\n",
    "# split the data into training set and validation set\n",
    "training_size = int(len(digits)*0.25)\n",
    "validation = digits[:training_size]\n",
    "training = digits[training_size:]"
   ]
  },
  {
   "cell_type": "code",
   "execution_count": 3,
   "metadata": {
    "collapsed": true
   },
   "outputs": [],
   "source": [
    "# take a datapoint and display the digit\n",
    "def display_digit(digit, labeled = True, title = \"\"):\n",
    "\t\n",
    "\tif labeled:\n",
    "\t\tdigit = digit[1]\n",
    "\timage = digit\n",
    "\tplt.figure()\n",
    "\tfig = plt.imshow(image.reshape(28,28))\n",
    "\tfig.set_cmap('gray_r')\n",
    "\tfig.axes.get_xaxis().set_visible(False)\n",
    "\tfig.axes.get_yaxis().set_visible(False)\n",
    "\tif title != \"\":\n",
    "\t\tplt.title(\"Inferred label: \" + str(title))"
   ]
  },
  {
   "cell_type": "markdown",
   "metadata": {},
   "source": [
    "### Implementing lloyd's algorithm\n",
    "\n",
    "### 1. Randomly pick some k centers from the data as the starting values for centroids. Remove all labels.\n",
    "###\t2. Sum a list of arrys\n",
    "### 3. Compute the mean of a list of vectors, take the sum and then divide by the size of the cluster.\n",
    "###\t4. Form cluster (Given some data and centroids for the data, allocate each datapoints to its closest centroid. This forms cluster)\n",
    "###\t5. Move centroid (Return list of mean centroids corresponding to clusters)\n",
    "###\t6. Form cluster around centroid then keep moving the cnetroid until the moves are no longer significant.\n",
    "###\t7. Run k-means clustering on the data\n",
    "###\t8. Assign a digit label to each centroid "
   ]
  },
  {
   "cell_type": "code",
   "execution_count": 4,
   "metadata": {
    "collapsed": true
   },
   "outputs": [],
   "source": [
    "def init_centroids(labelled_data,k):\n",
    "    \n",
    "    return map(lambda x: x[1], random.sample(labelled_data,k))\n",
    "\n",
    "def sum_cluster(labelled_cluster):\n",
    "    \n",
    "    # assumes len(cluster) > 0\n",
    "    sum_ = labelled_cluster[0][1].copy()\n",
    "    for (label,vector) in labelled_cluster[1:]:\n",
    "        sum_ += vector\n",
    "    return sum_\n",
    "\n",
    "def mean_cluster(labelled_cluster):\n",
    "    \n",
    "    sum_of_points = sum_cluster(labelled_cluster)\n",
    "    mean_of_points = sum_of_points * (1.0 / len(labelled_cluster))\n",
    "    return mean_of_points\n",
    "\n",
    "def form_clusters(labelled_data, unlabelled_centroids):\n",
    "    \n",
    "    centroids_indices = range(len(unlabelled_centroids))\n",
    "\n",
    "    clusters = {c: [] for c in centroids_indices}\n",
    "\n",
    "    for (label,Xi) in labelled_data:\n",
    "        # for each datapoint, pick the closest centroid.\n",
    "        smallest_distance = float(\"inf\")\n",
    "        for cj_index in centroids_indices:\n",
    "            cj = unlabelled_centroids[cj_index]\n",
    "            distance = np.linalg.norm(Xi - cj)\n",
    "            if distance < smallest_distance:\n",
    "                closest_centroid_index = cj_index\n",
    "                smallest_distance = distance\n",
    "        # allocate that datapoint to the cluster of that centroid.\n",
    "        clusters[closest_centroid_index].append((label,Xi))\n",
    "    return clusters.values()"
   ]
  },
  {
   "cell_type": "code",
   "execution_count": 5,
   "metadata": {
    "collapsed": true
   },
   "outputs": [],
   "source": [
    "def move_centroids(labelled_clusters):\n",
    "  \n",
    "    new_centroids = []\n",
    "    for cluster in labelled_clusters:\n",
    "        new_centroids.append(mean_cluster(cluster))\n",
    "    return new_centroids\n",
    "\n",
    "def repeat_until_convergence(labelled_data, labelled_clusters, unlabelled_centroids):\n",
    "    \n",
    "    previous_max_difference = 0\n",
    "    while True:\n",
    "        unlabelled_old_centroids = unlabelled_centroids\n",
    "        unlabelled_centroids = move_centroids(labelled_clusters)\n",
    "        labelled_clusters = form_clusters(labelled_data, unlabelled_centroids)\n",
    "        \n",
    "        differences = map(lambda a, b: np.linalg.norm(a-b),unlabelled_old_centroids,unlabelled_centroids)\n",
    "        max_difference = max(differences)\n",
    "        difference_change = abs((max_difference-previous_max_difference)/np.mean([previous_max_difference,max_difference])) * 100\n",
    "        previous_max_difference = max_difference\n",
    "        \n",
    "        if np.isnan(difference_change):\n",
    "            break\n",
    "    return labelled_clusters, unlabelled_centroids"
   ]
  },
  {
   "cell_type": "code",
   "execution_count": 6,
   "metadata": {
    "collapsed": true
   },
   "outputs": [],
   "source": [
    "def cluster(labelled_data, k):\n",
    "    centroids = init_centroids(labelled_data, k)\n",
    "    clusters = form_clusters(labelled_data, centroids)\n",
    "    final_clusters, final_centroids = repeat_until_convergence(labelled_data, clusters, centroids)\n",
    "    return final_clusters, final_centroids\n",
    "\n",
    "def assign_labels_to_centroids(clusters, centroids):\n",
    "    \n",
    "    labelled_centroids = []\n",
    "    for i in range(len(clusters)):\n",
    "        labels = map(lambda x: x[0], clusters[i])\n",
    "        # pick the most common label\n",
    "        most_common = max(set(labels), key=labels.count)\n",
    "        centroid = (most_common, centroids[i])\n",
    "        labelled_centroids.append(centroid)\n",
    "    return labelled_centroids\n",
    "\n",
    "def classify_digit(digit, labelled_centroids):\n",
    "    \n",
    "    mindistance = float(\"inf\")\n",
    "    for (label, centroid) in labelled_centroids:\n",
    "        distance = np.linalg.norm(centroid - digit)\n",
    "        if distance < mindistance:\n",
    "            mindistance = distance\n",
    "            closest_centroid_label = label\n",
    "    return closest_centroid_label\n",
    "\n",
    "def get_error_rate(labelled_digits,labelled_centroids):\n",
    "   \n",
    "    classified_incorrect = 0\n",
    "    for (label,digit) in labelled_digits:\n",
    "        classified_label =classify_digit(digit, labelled_centroids)\n",
    "        if classified_label != label:\n",
    "            classified_incorrect +=1\n",
    "    error_rate = classified_incorrect / float(len(digits))\n",
    "    return error_rate"
   ]
  },
  {
   "cell_type": "code",
   "execution_count": null,
   "metadata": {
    "collapsed": true
   },
   "outputs": [],
   "source": [
    "k = 16\n",
    "clusters, centroids = cluster(training, k)\n",
    "labelled_centroids = assign_labels_to_centroids(clusters, centroids)\n",
    "\n",
    "for (label,digit) in labelled_centroids:\n",
    "    display_digit(digit, labeled=False, title=label)\n"
   ]
  },
  {
   "cell_type": "code",
   "execution_count": null,
   "metadata": {
    "collapsed": true
   },
   "outputs": [],
   "source": []
  }
 ],
 "metadata": {
  "anaconda-cloud": {},
  "kernelspec": {
   "display_name": "Python [conda env:anaconda]",
   "language": "python",
   "name": "conda-env-anaconda-py"
  },
  "language_info": {
   "codemirror_mode": {
    "name": "ipython",
    "version": 2
   },
   "file_extension": ".py",
   "mimetype": "text/x-python",
   "name": "python",
   "nbconvert_exporter": "python",
   "pygments_lexer": "ipython2",
   "version": "2.7.12"
  }
 },
 "nbformat": 4,
 "nbformat_minor": 1
}
